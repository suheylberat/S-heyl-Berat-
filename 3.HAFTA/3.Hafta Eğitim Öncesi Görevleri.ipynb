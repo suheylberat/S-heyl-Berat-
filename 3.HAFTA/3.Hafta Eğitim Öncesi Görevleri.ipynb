{
  "cells": [
    {
      "cell_type": "markdown",
      "metadata": {
        "id": "tsD4YVAe_Te2"
      },
      "source": [
        "# Problem 1\n",
        "Bir sayının 7'ye bölünebilir olup olmadığını kontrol etmek \n",
        "için bir program yazın.\n",
        "\n",
        "İpucu: Mod operatörünü (%) kullanabilirsiniz."
      ]
    },
    {
      "cell_type": "code",
      "execution_count": 21,
      "metadata": {
        "id": "NGjvNwKx_Te7"
      },
      "outputs": [
        {
          "name": "stdout",
          "output_type": "stream",
          "text": [
            "25 sayısı 7 ile tam bölünmüyor\n"
          ]
        }
      ],
      "source": [
        "# 1.Problemin Çözümünü Buraya Yazınız\n",
        "sayi =int(input(\"Lütfen bir sayı giriniz: \"))\n",
        "if (sayi % 7 == 0 ):\n",
        "    print(sayi, 'sayısı 7 ile tam bölünüyor' )\n",
        "else:\n",
        "    print(sayi , 'sayısı 7 ile tam bölünmüyor')"
      ]
    },
    {
      "cell_type": "markdown",
      "metadata": {
        "id": "Kg3qiBAI_Te8"
      },
      "source": [
        "# Problem 2\n",
        "Kullanıcıdan vize ve final notu isteyin. Girilen vize notunun %40’ı ve \n",
        "girilen finalnotunun ise %60’ı alınarak yıl sonu not ortalaması hesaplanacaktır. \n",
        "\n",
        "Bu not ortalaması eğer 85 ve üzeri ise AA, \n",
        "\n",
        "75 ve 85 arasında ise BA, \n",
        "\n",
        "70 ve 75 arasında ise BB, \n",
        "\n",
        "65 ve 70 arasında ise CB,\n",
        "\n",
        "60 ve 65 arasında ise CC,\n",
        "\n",
        "55 ve 60 arasında ise DC,\n",
        "\n",
        "50 ve 55 arasında ise DD olarak hesaplanacaktır. \n",
        "\n",
        "Bu öğrencinin yıl sonu toplam notu 50’nin altında ise FF ile dersten kalacaktır. \n",
        "\n",
        "Ayrıca öğrencinin final notu 50’nin altında ise direkt FF ile kalacaktır."
      ]
    },
    {
      "cell_type": "code",
      "execution_count": 10,
      "metadata": {
        "id": "MXTtCxI1_Te8"
      },
      "outputs": [
        {
          "name": "stdout",
          "output_type": "stream",
          "text": [
            "Not ortalamanız BA\n"
          ]
        }
      ],
      "source": [
        "# 2.Problemin Çözümünü Buraya Yazınız\n",
        "finalNotee = float(input(\" FİNAL notunuzu giriniz: \"))\n",
        "vizeNotee = float(input(\"Vize notunuzu giriniz: \"))\n",
        "k = ((finalNotee * 0.6) + (vizeNotee * 0.4))\n",
        "if 50> finalNotee:\n",
        "    print(\"Final notunuz 50'nin altında olduğundan dolayı FF ile kaldınız\")\n",
        "elif k>85 and k<100:\n",
        "    print(\"Not ortalamanız AA\")\n",
        "elif 85>k and k<75:\n",
        "    print(\"Not ortalamanız BA\")\n",
        "elif 75>k and k>70:\n",
        "    print(\"Not ortalamanız BB\")\n",
        "elif 70>k and k>65:\n",
        "    print(\"Not ortalamanız CB\")\n",
        "elif 65>k and k>60:\n",
        "    print(\"Not ortalamanız CC\")\n",
        "elif 60>k and k>55:\n",
        "    print(\"Not ortalamanız DC\")\n",
        "elif 55>k and k>50:\n",
        "    print(\"Not ortalamanız DD\")\n",
        "elif 50>k :\n",
        "    print(\"FF ile dersten kaldınız\")"
      ]
    },
    {
      "cell_type": "code",
      "execution_count": 18,
      "metadata": {},
      "outputs": [
        {
          "name": "stdout",
          "output_type": "stream",
          "text": [
            "70.0\n",
            "Not ortalamanız CB\n"
          ]
        }
      ],
      "source": [
        "finalNotee = int(input(\" FİNAL notunuzu giriniz: \"))\n",
        "vizeNotee = int(input(\"Vize notunuzu giriniz: \"))\n",
        "k = ((finalNotee * 0.6) + (vizeNotee * 0.4))\n",
        "#print(k)\n",
        "if 50> finalNotee:\n",
        "    print(\"Final notunuz 50'nin altında olduğundan dolayı FF ile kaldınız\")\n",
        "elif k>85:\n",
        "    print(\"Not ortalamanız AA\")\n",
        "elif 85>k>75:\n",
        "    print(\"Not ortalamanız BA\")\n",
        "elif 75>k>70:\n",
        "    print(\"Not ortalamanız BB\")\n",
        "elif 70>=k>=65:\n",
        "    print(\"Not ortalamanız CB\")\n",
        "elif 65>k>60:\n",
        "    print(\"Not ortalamanız CC\")\n",
        "elif 60>k>55:\n",
        "    print(\"Not ortalamanız DC\")\n",
        "elif 55>k>50:\n",
        "    print(\"Not ortalamanız DD\")\n",
        "elif 50>k:\n",
        "    print(\"FF ile dersten kaldınız\")"
      ]
    },
    {
      "cell_type": "markdown",
      "metadata": {
        "id": "tAoRYCTC_Te8"
      },
      "source": [
        "# Problem 3\n",
        "İki YetGenli Zirve'de karşılaşıyorlar. Birbirlerini tanımak için sorular soruyorlar. Birbirlerine yaşlarını soruyorlar. Akıllarına bir Python programı yazıp, yaşlarını ve isimlerini giriyorlar. Büyük olanın yaşını ekrana yazdıran programı yazıyorlar. Sende bu iki YetGenli'ye destek olmak ister misin?\n",
        "\n",
        "```\n",
        "Birinci YetGenlinin ismi: Ahmet\n",
        "Birinci YetGenlinin yaşı : 20\n",
        "İkinci YetGenlinin ismi: Mehmet\n",
        "İkinci YetGenlinin yaşı : 25\n",
        "Mehmet'in yaşı daha büyük ve yaşı 25'tir.\n",
        "```"
      ]
    },
    {
      "cell_type": "code",
      "execution_count": 38,
      "metadata": {
        "id": "bPjE8W0i_Te8"
      },
      "outputs": [
        {
          "name": "stdout",
          "output_type": "stream",
          "text": [
            "Birinci YetGenlinin ismi:  Ahmet\n",
            "İkinci YetGenlinin ismi: Mehmet\n",
            "Birinci YetGenlinin yaşı:  20\n",
            "İkinci YetGenllinin yaşı:  25\n",
            "Mehmet'in yaşı daha büyüktür ve yaşı 25'tir. \n"
          ]
        }
      ],
      "source": [
        "# 3.Problemin Çözümünü Buraya Yazınız\n",
        "birinciad= input(\"Lütfen adınızı giriniz: \")\n",
        "birinciyaş = int(input(\"lütfen yaşınızı giiniz: \"))\n",
        "ikinciad = input(\"Lütfen adınızı giriniz: \") \n",
        "ikinciyaş = int(input(\"lütfen yaşınızı giiniz: \"))\n",
        "print (\"Birinci YetGenlinin ismi: \" , birinciad)\n",
        "print (\"İkinci YetGenlinin ismi:\" , ikinciad)\n",
        "print(\"Birinci YetGenlinin yaşı: \" , birinciyaş)\n",
        "print(\"İkinci YetGenllinin yaşı: \" , ikinciyaş)\n",
        "if birinciyaş > ikinciyaş :\n",
        "    print(f\"{birinciad} 'in yaşı daha büyük ve yaşı {birinciyaş}'tir. \")\n",
        "elif ikinciyaş > birinciyaş :\n",
        "    print(f\"{ikinciad}'in yaşı daha büyüktür ve yaşı {ikinciyaş}'tir. \")"
      ]
    },
    {
      "cell_type": "markdown",
      "metadata": {
        "id": "zBVv8Tyg_Te9"
      },
      "source": [
        "# Problem 4\n",
        "Pandemi döneminde AVM'lerde ateş ölçümü yapılıyor. AVM'ye giren kişinin ateş ölçümü 37.5 derecenin altında ise girişe izin veriliyor. 37.5 derecenin üstünde ise girişe izin verilmiyor. AVM'ye girişe izin verilip verilmediğini ekrana yazdıran bir program yazın.\n",
        "\n",
        "Program sonunda şöyle bir çıktı elde etmelisiniz:\n",
        "\n",
        "```\n",
        "Ateşiniz 37.5 derece. AVM'ye girebilirsin! Maske takmayı unutma!\n",
        "Ateşiniz 37.6 derece. AVM'ye giremezsin! Hemen evine dön!\n",
        "```"
      ]
    },
    {
      "cell_type": "code",
      "execution_count": 15,
      "metadata": {
        "id": "TSAXs8et_Te9"
      },
      "outputs": [
        {
          "name": "stdout",
          "output_type": "stream",
          "text": [
            "Ateşiniz 38.0 derecedir. AVM'ye giremezsin! Hemen evine dön!\n"
          ]
        }
      ],
      "source": [
        "# 4.Problemin Çözümünü Buraya Yazınız\n",
        "ates = float(input(\"Kişinin ateşini giriniz: \"))\n",
        "if ates <= 37.5:\n",
        "    print(f\"Ateşiniz {ates} derecedir. AVM'ye girebilirsin! Maske takmayı unutma!\") \n",
        "\n",
        "elif ates > 37.5:\n",
        "    print(f\"Ateşiniz {ates} derecedir. AVM'ye giremezsin! Hemen evine dön!\") "
      ]
    },
    {
      "cell_type": "markdown",
      "metadata": {
        "id": "6AEkZrDt_Te9"
      },
      "source": [
        "# Problem 5\n",
        "YetGen bir spor kulübüyle sponsorluk anlaşması yapıyor. Kulüp, sponsorluk anlaşmasına göre her YetGen liderinin beden kitle indeksini hesaplamak istiyor. Spor kulübü, beden kitle indeksini hesaplamak için YetGen Jump Python liderlerinden Berkcan ve Ahmet'i arıyor. Berkcan ve Ahmet, kulübe yardımcı olmak için bir Python programı yazıyorlar. Sende bu iki YetGen liderine destek olmak ister misin?\n",
        "\n",
        "Kullanıcıdan alınan boy ve kilo değerlerine göre beden kitle indeksini hesaplayın ve şu kurallara göre ekrana şu yazıları yazdırın.\n",
        "\n",
        "\n",
        "Beden Kitle İndeksi, kişinin ağırlığının (kg olarak) boyunun karesine (m olarak) bölünmesiyle hesaplanır.\n",
        "\n",
        "\n",
        "```\n",
        " BKİ 18.5'un altındaysa -------> Zayıf\n",
        "\n",
        " BKİ 18.5 ile 25 arasındaysa ------> Normal\n",
        "\n",
        " BKİ 25 ile 30 arasındaysa --------> Fazla Kilolu\n",
        "\n",
        " BKİ 30'un üstündeyse -------------> Obez\n",
        "```\n",
        "\n"
      ]
    },
    {
      "cell_type": "code",
      "execution_count": 31,
      "metadata": {
        "id": "t-XPI_u0_Te-"
      },
      "outputs": [
        {
          "name": "stdout",
          "output_type": "stream",
          "text": [
            "17.306122448979593\n",
            "zayıf\n"
          ]
        }
      ],
      "source": [
        "# 5.Problemin Çözümünü Buraya Yazınız\n",
        "boy =float(input(\"Boyunuzu metre cinsinden giriniz: \"))\n",
        "kilo = int(input(\"Kilonuzu giriniz: \"))\n",
        "BKİ = kilo / boy**2\n",
        "print(BKİ)\n",
        "if 18.5 > BKİ:\n",
        "    print(\"zayıf\")\n",
        "elif 25 > BKİ >= 18.5:\n",
        "    print(\"Normal\")\n",
        "elif 30> BKİ >= 25 :\n",
        "    print(\"Fazla kilolu\")\n",
        "elif BKİ >=30:\n",
        "    print(\"Obez\")"
      ]
    },
    {
      "cell_type": "markdown",
      "metadata": {
        "id": "oFsvQyaO_Te-"
      },
      "source": [
        "# Problem 6\n",
        "Kullanıcıdan isim, yaş ve eğitim bilgilerini isteyip ehliyet alabilme  durumunu kontrol ediniz. \n",
        "\n",
        "Ehliyet alma koşulu en az 18 yaşında ve eğitim durumu lise ya da üniversite olmalıdır. "
      ]
    },
    {
      "cell_type": "code",
      "execution_count": 9,
      "metadata": {
        "id": "Tu2mcgco_Te-"
      },
      "outputs": [
        {
          "name": "stdout",
          "output_type": "stream",
          "text": [
            "Merhaba berat , ne yazık ki ehliyet alamazsınız\n"
          ]
        }
      ],
      "source": [
        "# 6.Problemin Çözümünü Buraya Yazınız\n",
        "isim = input(\"lütfen isminizi giriniz: \")\n",
        "yaş =int(input(\"Lütfen yaşınızı giriniz: \"))\n",
        "egitimdurumu =  input(\"Lütfen eğitim durumunuzu giriniz: \")\n",
        "if 18 >= yaş and (egitimdurumu == 'üniversite' or egitimdurumu == 'lise'):\n",
        "    print(f\"Merhaba {isim} , ehliyet alabilirsiniz\")\n",
        "else:\n",
        "    print(f\"Merhaba {isim} , ne yazık ki ehliyet alamazsınız\")\n"
      ]
    },
    {
      "cell_type": "markdown",
      "metadata": {
        "id": "eUkxVSAE_Te_"
      },
      "source": [
        "# Problem 7\n",
        "Bir yılın artık yıl olup olmadığını kontrol etmek için bir program yazın. \n",
        "Artık yıl kuralı:\n",
        "\n",
        "a) Eğer yılın son iki basamağı (00) ile bitmiyor ve yalnızca 4'e tam bölünüyorsa artık yıldır. Ya da, \n",
        "\n",
        "b) Eğer yıl 400'e tam bölünüyorsa artık yıldır.\n",
        "\n",
        "**Örneğin**\n",
        "```\n",
        "2017 artık yıl değildir.\n",
        "1900 artık yıl değildir\n",
        "2012 artık yıldır.\n",
        "2000 artık yıldır.\n",
        "```"
      ]
    },
    {
      "cell_type": "code",
      "execution_count": 26,
      "metadata": {
        "id": "4uWh8qUL_Te_"
      },
      "outputs": [
        {
          "name": "stdout",
          "output_type": "stream",
          "text": [
            "2000 yılı artık yıldır.\n"
          ]
        }
      ],
      "source": [
        "# 7.Problemin Çözümünü Buraya Yazınız\n",
        "yıl = int(input(\"Yıl giriniz\"))\n",
        "if (yıl % 100 != 0 and yıl % 4 == 0):\n",
        "    print(f\"{yıl} yılı artık yıldır.\")\n",
        "elif yıl % 400 == 0 :\n",
        "    print(f\"{yıl} yılı artık yıldır.\") \n",
        "else:\n",
        "    print(f\"{yıl} yılı artık yıl değildir\")"
      ]
    }
  ],
  "metadata": {
    "colab": {
      "provenance": []
    },
    "kernelspec": {
      "display_name": "Python 3.10.5 64-bit",
      "language": "python",
      "name": "python3"
    },
    "language_info": {
      "codemirror_mode": {
        "name": "ipython",
        "version": 3
      },
      "file_extension": ".py",
      "mimetype": "text/x-python",
      "name": "python",
      "nbconvert_exporter": "python",
      "pygments_lexer": "ipython3",
      "version": "3.11.1"
    },
    "orig_nbformat": 4,
    "vscode": {
      "interpreter": {
        "hash": "5026d2d6e7aaaaba093def813beadff083d8733e4a511af01735cbabd156995d"
      }
    }
  },
  "nbformat": 4,
  "nbformat_minor": 0
}
